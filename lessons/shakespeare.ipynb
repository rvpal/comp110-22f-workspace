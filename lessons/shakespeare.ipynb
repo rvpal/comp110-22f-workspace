{
 "cells": [
  {
   "cell_type": "markdown",
   "metadata": {},
   "source": [
    "# Quantifying Shakespeare\n",
    "\n",
    "In this notebook we will\n",
    "\n",
    "1. Read all of shakespeare's works into a list of strings.\n",
    "2. Count the frequencies of letters used.\n",
    "3. Visualize the results of the frequencies.\n",
    "\n",
    "The dataset we will use is: <https://bit.ly/shakespeare-txt>\n",
    "(I have a **shakespeare.txt** file in the lessons directory)"
   ]
  },
  {
   "cell_type": "code",
   "execution_count": 1,
   "metadata": {},
   "outputs": [
    {
     "name": "stdout",
     "output_type": "stream",
     "text": [
      "218\n"
     ]
    }
   ],
   "source": [
    "# Read the lines of Shakespeare into a list.\n",
    "\n",
    "from io import TextIOWrapper\n",
    "\n",
    "\n",
    "def read_lines(filename: str) -> list[str]:\n",
    "    \"\"\"Read every line from filename into a list.\"\"\"\n",
    "    lines: list[str] = list()\n",
    "    file_handle: TextIOWrapper = open(filename, \"r\")\n",
    "    for line in file_handle:\n",
    "        line = line.lower()\n",
    "        line = line.strip()\n",
    "        lines.append(line)\n",
    "    file_handle.close()\n",
    "    return lines\n",
    "\n",
    "\n",
    "shakespeare_lines: list[str] = read_lines(\"./shakespeare.txt\")\n",
    "print(len(shakespeare_lines))"
   ]
  },
  {
   "cell_type": "code",
   "execution_count": 2,
   "metadata": {},
   "outputs": [
    {
     "name": "stdout",
     "output_type": "stream",
     "text": [
      "{'o': 494, 'f': 157, 't': 562, 'h': 398, 'i': 417, 's': 423, 'a': 482, 'l': 275, 'e': 841, 'j': 4, 'w': 158, 'n': 411, 'd': 292, 'm': 194, 'r': 400, 'u': 173, 'p': 122, 'b': 107, 'v': 68, 'y': 122, 'c': 175, 'x': 10, 'g': 118, 'k': 38, 'q': 2, 'z': 2}\n"
     ]
    }
   ],
   "source": [
    "# Count the frequencies of letters used (we don't distinguish between uppercase and lowercase letters.)\n",
    "\n",
    "\n",
    "def tally(reference: dict[str, int], letter: str) -> None:\n",
    "    \"\"\"Tallies a character.\"\"\" \n",
    "    if letter in reference:\n",
    "        reference[letter] += 1\n",
    "    else:\n",
    "        reference[letter] = 1\n",
    "\n",
    "\n",
    "def count_letters(lines: list[str]) -> dict[str, int]:\n",
    "    \"\"\"Count the frequencies of all letters in lines.\"\"\"\n",
    "    counts: dict[str, int] = dict()\n",
    "    for line in lines:\n",
    "        for char in line:\n",
    "            if char.isalpha():  # char >= \"a\" and char <= \"z\":\n",
    "                tally(counts, char)\n",
    "    return counts\n",
    "\n",
    "\n",
    "shakespeare_letters: dict[str, int] = count_letters(shakespeare_lines)\n",
    "print(shakespeare_letters)"
   ]
  },
  {
   "cell_type": "code",
   "execution_count": 3,
   "metadata": {},
   "outputs": [
    {
     "name": "stdout",
     "output_type": "stream",
     "text": [
      "{'a': 482, 'b': 107, 'c': 175, 'd': 292, 'e': 841, 'f': 157, 'g': 118, 'h': 398, 'i': 417, 'j': 4, 'k': 38, 'l': 275, 'm': 194, 'n': 411, 'o': 494, 'p': 122, 'q': 2, 'r': 400, 's': 423, 't': 562, 'u': 173, 'v': 68, 'w': 158, 'x': 10, 'y': 122, 'z': 2}\n"
     ]
    }
   ],
   "source": [
    "# Sort the dictionary in alphabetical order.\n",
    "\n",
    "items_in_dict: list[tuple[str, int]] = list(shakespeare_letters.items())\n",
    "items_in_dict = sorted(items_in_dict)\n",
    "shakespeare_letters_sorted: dict[str, int] = dict(items_in_dict)\n",
    "\n",
    "print(shakespeare_letters_sorted)"
   ]
  },
  {
   "cell_type": "code",
   "execution_count": 4,
   "metadata": {},
   "outputs": [
    {
     "data": {
      "text/plain": [
       "<BarContainer object of 26 artists>"
      ]
     },
     "execution_count": 4,
     "metadata": {},
     "output_type": "execute_result"
    },
    {
     "data": {
      "image/png": "[encoded data removed]",
      "text/plain": [
       "<Figure size 432x288 with 1 Axes>"
      ]
     },
     "metadata": {
      "needs_background": "light"
     },
     "output_type": "display_data"
    }
   ],
   "source": [
    "# VIsualize the result of our counting in a bar chart. \n",
    "\n",
    "from matplotlib import pyplot\n",
    "\n",
    "# Title and Axes Names\n",
    "pyplot.title(\"Frequencies of Letters in Shakespeare's Works\")\n",
    "pyplot.xlabel(\"Letters\")\n",
    "pyplot.ylabel(\"Frequencies\")\n",
    "\n",
    "# Get values on the graph\n",
    "labels: list[str] = list(shakespeare_letters_sorted.keys())  # Call keys in shakespeare_letters and make it a list.\n",
    "values: list[int] = list(shakespeare_letters_sorted.values())  # Call values in shakespeare_letters and make it a list.\n",
    "pyplot.bar(labels, values)  # Put the lists on the graph."
   ]
  }
 ],
 "metadata": {
  "kernelspec": {
   "display_name": "Python 3.10.6 64-bit",
   "language": "python",
   "name": "python3"
  },
  "language_info": {
   "codemirror_mode": {
    "name": "ipython",
    "version": 3
   },
   "file_extension": ".py",
   "mimetype": "text/x-python",
   "name": "python",
   "nbconvert_exporter": "python",
   "pygments_lexer": "ipython3",
   "version": "3.10.6"
  },
  "orig_nbformat": 4,
  "vscode": {
   "interpreter": {
    "hash": "07ab4baba5d46bbd0a792f19ec0c1bfdfd0d738d8bf4a57d4a5e88fe4c049bfb"
   }
  }
 },
 "nbformat": 4,
 "nbformat_minor": 2
}
